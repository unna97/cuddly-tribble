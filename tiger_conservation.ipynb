{
 "cells": [
  {
   "cell_type": "code",
   "execution_count": 1,
   "metadata": {},
   "outputs": [],
   "source": [
    "from utils import get_tiger_mortality_data, get_tiger_reserve_data"
   ]
  },
  {
   "cell_type": "code",
   "execution_count": 2,
   "metadata": {},
   "outputs": [],
   "source": [
    "tiger_reserve_data = get_tiger_reserve_data()\n",
    "tiger_mortality_data = get_tiger_mortality_data()"
   ]
  },
  {
   "cell_type": "code",
   "execution_count": 4,
   "metadata": {},
   "outputs": [
    {
     "data": {
      "text/html": [
       "<div>\n",
       "<style scoped>\n",
       "    .dataframe tbody tr th:only-of-type {\n",
       "        vertical-align: middle;\n",
       "    }\n",
       "\n",
       "    .dataframe tbody tr th {\n",
       "        vertical-align: top;\n",
       "    }\n",
       "\n",
       "    .dataframe thead th {\n",
       "        text-align: right;\n",
       "    }\n",
       "</style>\n",
       "<table border=\"1\" class=\"dataframe\">\n",
       "  <thead>\n",
       "    <tr style=\"text-align: right;\">\n",
       "      <th></th>\n",
       "      <th>Sl No</th>\n",
       "      <th>Tiger Reserve (TR)</th>\n",
       "      <th>PA Notificn Year</th>\n",
       "      <th>State</th>\n",
       "      <th>TR Notifcn Year</th>\n",
       "      <th>Core Area (sq km)</th>\n",
       "      <th>Buffer Area (sq km)</th>\n",
       "      <th>Total Area (sq km)</th>\n",
       "    </tr>\n",
       "  </thead>\n",
       "  <tbody>\n",
       "    <tr>\n",
       "      <th>0</th>\n",
       "      <td>1.0</td>\n",
       "      <td>Bandipur</td>\n",
       "      <td>1973-74</td>\n",
       "      <td>Karnataka</td>\n",
       "      <td>2007</td>\n",
       "      <td>872.24</td>\n",
       "      <td>584.06</td>\n",
       "      <td>1456.3</td>\n",
       "    </tr>\n",
       "    <tr>\n",
       "      <th>1</th>\n",
       "      <td>2.0</td>\n",
       "      <td>Corbett</td>\n",
       "      <td>1973-74</td>\n",
       "      <td>Uttarakhand</td>\n",
       "      <td>2010</td>\n",
       "      <td>821.99</td>\n",
       "      <td>466.32</td>\n",
       "      <td>1288.31</td>\n",
       "    </tr>\n",
       "    <tr>\n",
       "      <th>2</th>\n",
       "      <td>NaN</td>\n",
       "      <td>Amanagarh buffer</td>\n",
       "      <td>–</td>\n",
       "      <td>Uttar Pradesh</td>\n",
       "      <td>2012</td>\n",
       "      <td>–</td>\n",
       "      <td>80.60</td>\n",
       "      <td>80.60</td>\n",
       "    </tr>\n",
       "    <tr>\n",
       "      <th>3</th>\n",
       "      <td>3.0</td>\n",
       "      <td>Kanha</td>\n",
       "      <td>1973-74</td>\n",
       "      <td>Madhya Pradesh</td>\n",
       "      <td>2007</td>\n",
       "      <td>917.43</td>\n",
       "      <td>1134.36</td>\n",
       "      <td>2051.79</td>\n",
       "    </tr>\n",
       "    <tr>\n",
       "      <th>4</th>\n",
       "      <td>4.0</td>\n",
       "      <td>Manas</td>\n",
       "      <td>1973-74</td>\n",
       "      <td>Assam</td>\n",
       "      <td>2008</td>\n",
       "      <td>526.22</td>\n",
       "      <td>2310.88</td>\n",
       "      <td>2837.10</td>\n",
       "    </tr>\n",
       "  </tbody>\n",
       "</table>\n",
       "</div>"
      ],
      "text/plain": [
       "   Sl No Tiger Reserve (TR) PA Notificn Year           State TR Notifcn Year  \\\n",
       "0    1.0           Bandipur          1973-74       Karnataka            2007   \n",
       "1    2.0            Corbett          1973-74     Uttarakhand            2010   \n",
       "2    NaN   Amanagarh buffer                –   Uttar Pradesh            2012   \n",
       "3    3.0              Kanha          1973-74  Madhya Pradesh            2007   \n",
       "4    4.0              Manas          1973-74           Assam            2008   \n",
       "\n",
       "  Core Area (sq km) Buffer Area (sq km) Total Area (sq km)  \n",
       "0            872.24              584.06             1456.3  \n",
       "1            821.99              466.32            1288.31  \n",
       "2                 –               80.60              80.60  \n",
       "3            917.43             1134.36            2051.79  \n",
       "4            526.22             2310.88            2837.10  "
      ]
     },
     "execution_count": 4,
     "metadata": {},
     "output_type": "execute_result"
    }
   ],
   "source": []
  }
 ],
 "metadata": {
  "kernelspec": {
   "display_name": "crea",
   "language": "python",
   "name": "python3"
  },
  "language_info": {
   "codemirror_mode": {
    "name": "ipython",
    "version": 3
   },
   "file_extension": ".py",
   "mimetype": "text/x-python",
   "name": "python",
   "nbconvert_exporter": "python",
   "pygments_lexer": "ipython3",
   "version": "3.8.13"
  },
  "orig_nbformat": 4,
  "vscode": {
   "interpreter": {
    "hash": "351ca8fc89a444f5e887cdeb21844492ab3a20254bd75f8537a6f7d9c8ad1965"
   }
  }
 },
 "nbformat": 4,
 "nbformat_minor": 2
}
